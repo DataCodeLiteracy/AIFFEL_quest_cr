{
 "cells": [
  {
   "cell_type": "code",
   "execution_count": 2,
   "metadata": {},
   "outputs": [],
   "source": [
    "import pandas as pd\n",
    "import numpy as np\n",
    "import seaborn as sns\n",
    "import matplotlib.pyplot as plt\n",
    "import os"
   ]
  },
  {
   "cell_type": "code",
   "execution_count": 3,
   "metadata": {},
   "outputs": [],
   "source": [
    "salary1_data_path = os.getenv(\"HOME\") + \"/programming/AI/AIFFEL/AIFFEL_quest_cr/Python/data/salary_1.csv\"\n",
    "salary2_data_path = os.getenv(\"HOME\") + \"/programming/AI/AIFFEL/AIFFEL_quest_cr/Python/data/salary_2.csv\"\n",
    "cpi_path = os.getenv(\"HOME\") + \"/programming/AI/AIFFEL/AIFFEL_quest_cr/Python/data/cpi.csv\"\n",
    "job_path = os.getenv(\"HOME\") + \"/programming/AI/AIFFEL/AIFFEL_quest_cr/Python/data/job.csv\""
   ]
  },
  {
   "cell_type": "code",
   "execution_count": 4,
   "metadata": {},
   "outputs": [],
   "source": [
    "salary1_data = pd.read_csv(salary1_data_path)\n",
    "salary2_data = pd.read_csv(salary2_data_path)\n",
    "cpi_data = pd.read_csv(cpi_path)\n",
    "job_data = pd.read_csv(job_path)"
   ]
  },
  {
   "cell_type": "code",
   "execution_count": 5,
   "metadata": {},
   "outputs": [],
   "source": [
    "salary_df = pd.concat([salary1_data, salary2_data])\n",
    "salary_df.reset_index(drop = True, inplace = True)"
   ]
  }
 ],
 "metadata": {
  "kernelspec": {
   "display_name": "Python 3",
   "language": "python",
   "name": "python3"
  },
  "language_info": {
   "codemirror_mode": {
    "name": "ipython",
    "version": 3
   },
   "file_extension": ".py",
   "mimetype": "text/x-python",
   "name": "python",
   "nbconvert_exporter": "python",
   "pygments_lexer": "ipython3",
   "version": "3.11.5"
  }
 },
 "nbformat": 4,
 "nbformat_minor": 2
}
