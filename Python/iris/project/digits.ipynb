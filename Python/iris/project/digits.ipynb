{
 "cells": [
  {
   "cell_type": "code",
   "execution_count": 6,
   "metadata": {},
   "outputs": [
    {
     "name": "stdout",
     "output_type": "stream",
     "text": [
      "1.5.2\n"
     ]
    }
   ],
   "source": [
    "import sklearn\n",
    "import pandas as pd\n",
    "\n",
    "print(sklearn.__version__)"
   ]
  },
  {
   "cell_type": "code",
   "execution_count": 7,
   "metadata": {},
   "outputs": [],
   "source": [
    "from sklearn.datasets import load_digits\n",
    "from sklearn.model_selection import train_test_split\n",
    "from sklearn.metrics import classification_report"
   ]
  },
  {
   "cell_type": "code",
   "execution_count": 23,
   "metadata": {},
   "outputs": [
    {
     "data": {
      "text/plain": [
       "array([[ 0.,  0.,  5., ...,  0.,  0.,  0.],\n",
       "       [ 0.,  0.,  0., ..., 10.,  0.,  0.],\n",
       "       [ 0.,  0.,  0., ..., 16.,  9.,  0.],\n",
       "       ...,\n",
       "       [ 0.,  0.,  1., ...,  6.,  0.,  0.],\n",
       "       [ 0.,  0.,  2., ..., 12.,  0.,  0.],\n",
       "       [ 0.,  0., 10., ..., 12.,  1.,  0.]])"
      ]
     },
     "execution_count": 23,
     "metadata": {},
     "output_type": "execute_result"
    }
   ],
   "source": [
    "# 데이터 준비\n",
    "digits = load_digits()\n",
    "digits_data = digits.data\n",
    "digits_data"
   ]
  },
  {
   "cell_type": "code",
   "execution_count": 21,
   "metadata": {},
   "outputs": [
    {
     "name": "stdout",
     "output_type": "stream",
     "text": [
      "[0 1 2 3 4 5 6 7 8 9]\n",
      "       pixel_0_0    pixel_0_1    pixel_0_2    pixel_0_3    pixel_0_4  \\\n",
      "count     1797.0  1797.000000  1797.000000  1797.000000  1797.000000   \n",
      "mean         0.0     0.303840     5.204786    11.835838    11.848080   \n",
      "std          0.0     0.907192     4.754826     4.248842     4.287388   \n",
      "min          0.0     0.000000     0.000000     0.000000     0.000000   \n",
      "25%          0.0     0.000000     1.000000    10.000000    10.000000   \n",
      "50%          0.0     0.000000     4.000000    13.000000    13.000000   \n",
      "75%          0.0     0.000000     9.000000    15.000000    15.000000   \n",
      "max          0.0     8.000000    16.000000    16.000000    16.000000   \n",
      "\n",
      "         pixel_0_5    pixel_0_6    pixel_0_7    pixel_1_0    pixel_1_1  ...  \\\n",
      "count  1797.000000  1797.000000  1797.000000  1797.000000  1797.000000  ...   \n",
      "mean      5.781859     1.362270     0.129661     0.005565     1.993879  ...   \n",
      "std       5.666418     3.325775     1.037383     0.094222     3.196160  ...   \n",
      "min       0.000000     0.000000     0.000000     0.000000     0.000000  ...   \n",
      "25%       0.000000     0.000000     0.000000     0.000000     0.000000  ...   \n",
      "50%       4.000000     0.000000     0.000000     0.000000     0.000000  ...   \n",
      "75%      11.000000     0.000000     0.000000     0.000000     3.000000  ...   \n",
      "max      16.000000    16.000000    15.000000     2.000000    16.000000  ...   \n",
      "\n",
      "         pixel_6_7    pixel_7_0    pixel_7_1    pixel_7_2    pixel_7_3  \\\n",
      "count  1797.000000  1797.000000  1797.000000  1797.000000  1797.000000   \n",
      "mean      0.206455     0.000556     0.279354     5.557596    12.089037   \n",
      "std       0.984401     0.023590     0.934302     5.103019     4.374694   \n",
      "min       0.000000     0.000000     0.000000     0.000000     0.000000   \n",
      "25%       0.000000     0.000000     0.000000     1.000000    11.000000   \n",
      "50%       0.000000     0.000000     0.000000     4.000000    13.000000   \n",
      "75%       0.000000     0.000000     0.000000    10.000000    16.000000   \n",
      "max      13.000000     1.000000     9.000000    16.000000    16.000000   \n",
      "\n",
      "         pixel_7_4    pixel_7_5    pixel_7_6    pixel_7_7        label  \n",
      "count  1797.000000  1797.000000  1797.000000  1797.000000  1797.000000  \n",
      "mean     11.809126     6.764051     2.067891     0.364496     4.490818  \n",
      "std       4.933947     5.900623     4.090548     1.860122     2.865304  \n",
      "min       0.000000     0.000000     0.000000     0.000000     0.000000  \n",
      "25%      10.000000     0.000000     0.000000     0.000000     2.000000  \n",
      "50%      14.000000     6.000000     0.000000     0.000000     4.000000  \n",
      "75%      16.000000    12.000000     2.000000     0.000000     7.000000  \n",
      "max      16.000000    16.000000    16.000000    16.000000     9.000000  \n",
      "\n",
      "[8 rows x 65 columns]\n"
     ]
    }
   ],
   "source": [
    "# 데이터 이해하기\n",
    "\n",
    "# Feature Data 지정하기\n",
    "digits_df = pd.DataFrame(data=digits_data, columns=digits.feature_names)\n",
    "\n",
    "# Label Data 지정하기\n",
    "digits_df['label'] = digits.target\n",
    "digits_label = digits.target\n",
    "\n",
    "# Target Names 출력해 보기\n",
    "print(digits.target_names)\n",
    "\n",
    "# 데이터 Describe 해 보기\n",
    "print(digits_df.describe())"
   ]
  },
  {
   "cell_type": "code",
   "execution_count": 24,
   "metadata": {},
   "outputs": [],
   "source": [
    "# train, test 데이터 분리\n",
    "X_train, X_test, y_train, y_test = train_test_split(digits_data,\n",
    "                                                    digits_label, \n",
    "                                                    test_size=0.2, \n",
    "                                                    random_state=7)"
   ]
  },
  {
   "cell_type": "code",
   "execution_count": 36,
   "metadata": {},
   "outputs": [
    {
     "name": "stdout",
     "output_type": "stream",
     "text": [
      "Decision 정확도 :  0.8555555555555555\n",
      "RandomForest 정확도 :  0.9638888888888889\n",
      "SVM 정확도 :  0.9888888888888889\n",
      "SGD 정확도 :  0.9416666666666667\n",
      "Logistics 정확도 :  0.9472222222222222\n"
     ]
    }
   ],
   "source": [
    "# 다양한 모델로 학습시켜보기\n",
    "from sklearn.metrics import accuracy_score\n",
    "\n",
    "# DecisionTree\n",
    "from sklearn.tree import DecisionTreeClassifier\n",
    "\n",
    "decision_tree = DecisionTreeClassifier(random_state=32)\n",
    "decision_tree.fit(X_train, y_train)\n",
    "\n",
    "decision_y_pred = decision_tree.predict(X_test)\n",
    "print('Decision 정확도 : ', accuracy_score(y_test, decision_y_pred))\n",
    "\n",
    "# Random Forest\n",
    "from sklearn.ensemble import RandomForestClassifier\n",
    "\n",
    "random_forest = RandomForestClassifier(random_state=32)\n",
    "random_forest.fit(X_train, y_train)\n",
    "\n",
    "random_forest_y_pred = random_forest.predict(X_test)\n",
    "print('RandomForest 정확도 : ', accuracy_score(y_test, random_forest_y_pred))\n",
    "\n",
    "# SVM\n",
    "from sklearn import svm\n",
    "\n",
    "svm_model = svm.SVC()\n",
    "svm_model.fit(X_train, y_train)\n",
    "\n",
    "svm_model_y_pred = svm_model.predict(X_test)\n",
    "print(\"SVM 정확도 : \", accuracy_score(y_test, svm_model_y_pred))\n",
    "\n",
    "# SGD Classifier\n",
    "from sklearn.linear_model import SGDClassifier\n",
    "\n",
    "sgd_model = SGDClassifier()\n",
    "sgd_model.fit(X_train, y_train)\n",
    "\n",
    "sgd_model_y_pred = sgd_model.predict(X_test)\n",
    "print(\"SGD 정확도 : \", accuracy_score(y_test, sgd_model_y_pred))\n",
    "\n",
    "# Logistic Regression\n",
    "from sklearn.linear_model import LogisticRegression\n",
    "\n",
    "logistic_model = LogisticRegression(max_iter=200)\n",
    "logistic_model.fit(X_train, y_train)\n",
    "\n",
    "logistic_model_y_pred = logistic_model.predict(X_test)\n",
    "print(\"Logistics 정확도 : \", accuracy_score(y_test, logistic_model_y_pred))\n",
    "\n",
    "# 손글씨 이미지는 정확도가 가장 중요한 지표고, 그에 따라서 정확도가 98.8% 이상 나오는 SVM 모델을 선택하는 것이 가장 좋을 것이라 생각한다."
   ]
  }
 ],
 "metadata": {
  "kernelspec": {
   "display_name": "Python 3",
   "language": "python",
   "name": "python3"
  },
  "language_info": {
   "codemirror_mode": {
    "name": "ipython",
    "version": 3
   },
   "file_extension": ".py",
   "mimetype": "text/x-python",
   "name": "python",
   "nbconvert_exporter": "python",
   "pygments_lexer": "ipython3",
   "version": "3.11.5"
  }
 },
 "nbformat": 4,
 "nbformat_minor": 2
}
