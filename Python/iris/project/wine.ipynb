{
 "cells": [
  {
   "cell_type": "code",
   "execution_count": 5,
   "metadata": {},
   "outputs": [],
   "source": [
    "import pandas as pd\n",
    "\n",
    "from sklearn.datasets import load_wine\n",
    "from sklearn.model_selection import train_test_split\n",
    "from sklearn.metrics import classification_report"
   ]
  },
  {
   "cell_type": "code",
   "execution_count": 6,
   "metadata": {},
   "outputs": [],
   "source": [
    "# 데이터 준비\n",
    "wine = load_wine()\n",
    "wine_data = wine.data"
   ]
  },
  {
   "cell_type": "code",
   "execution_count": 19,
   "metadata": {},
   "outputs": [
    {
     "name": "stdout",
     "output_type": "stream",
     "text": [
      "['class_0' 'class_1' 'class_2']\n",
      "          alcohol  malic_acid         ash  alcalinity_of_ash   magnesium  \\\n",
      "count  178.000000  178.000000  178.000000         178.000000  178.000000   \n",
      "mean    13.000618    2.336348    2.366517          19.494944   99.741573   \n",
      "std      0.811827    1.117146    0.274344           3.339564   14.282484   \n",
      "min     11.030000    0.740000    1.360000          10.600000   70.000000   \n",
      "25%     12.362500    1.602500    2.210000          17.200000   88.000000   \n",
      "50%     13.050000    1.865000    2.360000          19.500000   98.000000   \n",
      "75%     13.677500    3.082500    2.557500          21.500000  107.000000   \n",
      "max     14.830000    5.800000    3.230000          30.000000  162.000000   \n",
      "\n",
      "       total_phenols  flavanoids  nonflavanoid_phenols  proanthocyanins  \\\n",
      "count     178.000000  178.000000            178.000000       178.000000   \n",
      "mean        2.295112    2.029270              0.361854         1.590899   \n",
      "std         0.625851    0.998859              0.124453         0.572359   \n",
      "min         0.980000    0.340000              0.130000         0.410000   \n",
      "25%         1.742500    1.205000              0.270000         1.250000   \n",
      "50%         2.355000    2.135000              0.340000         1.555000   \n",
      "75%         2.800000    2.875000              0.437500         1.950000   \n",
      "max         3.880000    5.080000              0.660000         3.580000   \n",
      "\n",
      "       color_intensity         hue  od280/od315_of_diluted_wines      proline  \\\n",
      "count       178.000000  178.000000                    178.000000   178.000000   \n",
      "mean          5.058090    0.957449                      2.611685   746.893258   \n",
      "std           2.318286    0.228572                      0.709990   314.907474   \n",
      "min           1.280000    0.480000                      1.270000   278.000000   \n",
      "25%           3.220000    0.782500                      1.937500   500.500000   \n",
      "50%           4.690000    0.965000                      2.780000   673.500000   \n",
      "75%           6.200000    1.120000                      3.170000   985.000000   \n",
      "max          13.000000    1.710000                      4.000000  1680.000000   \n",
      "\n",
      "            label  \n",
      "count  178.000000  \n",
      "mean     0.938202  \n",
      "std      0.775035  \n",
      "min      0.000000  \n",
      "25%      0.000000  \n",
      "50%      1.000000  \n",
      "75%      2.000000  \n",
      "max      2.000000  \n",
      "<class 'pandas.core.frame.DataFrame'>\n",
      "RangeIndex: 178 entries, 0 to 177\n",
      "Data columns (total 14 columns):\n",
      " #   Column                        Non-Null Count  Dtype  \n",
      "---  ------                        --------------  -----  \n",
      " 0   alcohol                       178 non-null    float64\n",
      " 1   malic_acid                    178 non-null    float64\n",
      " 2   ash                           178 non-null    float64\n",
      " 3   alcalinity_of_ash             178 non-null    float64\n",
      " 4   magnesium                     178 non-null    float64\n",
      " 5   total_phenols                 178 non-null    float64\n",
      " 6   flavanoids                    178 non-null    float64\n",
      " 7   nonflavanoid_phenols          178 non-null    float64\n",
      " 8   proanthocyanins               178 non-null    float64\n",
      " 9   color_intensity               178 non-null    float64\n",
      " 10  hue                           178 non-null    float64\n",
      " 11  od280/od315_of_diluted_wines  178 non-null    float64\n",
      " 12  proline                       178 non-null    float64\n",
      " 13  label                         178 non-null    int64  \n",
      "dtypes: float64(13), int64(1)\n",
      "memory usage: 19.6 KB\n",
      "None\n"
     ]
    }
   ],
   "source": [
    "# 데이터 이해하기\n",
    "\n",
    "# Feature Data 저장하기\n",
    "wine_df = pd.DataFrame(data=wine_data, columns=wine.feature_names)\n",
    "\n",
    "# Label Data 지정하기\n",
    "wine_df['label'] = wine.target\n",
    "wine_label = wine.target\n",
    "\n",
    "# Target Names 출력해 보기\n",
    "print(wine.target_names)\n",
    "\n",
    "# 데이터 Describe 해보기\n",
    "print(wine_df.describe())"
   ]
  },
  {
   "cell_type": "code",
   "execution_count": 10,
   "metadata": {},
   "outputs": [],
   "source": [
    "# train, test 데이터 분리\n",
    "X_train, X_test, y_train, y_test = train_test_split(wine_data,\n",
    "                                                    wine_label,\n",
    "                                                    test_size=0.2,\n",
    "                                                    random_state=7)"
   ]
  },
  {
   "cell_type": "code",
   "execution_count": 18,
   "metadata": {},
   "outputs": [
    {
     "name": "stdout",
     "output_type": "stream",
     "text": [
      "Decision 정확도 :  0.9444444444444444\n",
      "RandomForest 정확도 :  1.0\n",
      "SVM 정확도 :  0.6111111111111112\n",
      "SGD 정확도 :  0.6111111111111112\n",
      "Logistics 정확도 :  0.9722222222222222\n"
     ]
    }
   ],
   "source": [
    "# 다양한 모델로 학습시켜보기\n",
    "from sklearn.metrics import accuracy_score\n",
    "# DecisionTree\n",
    "from sklearn.tree import DecisionTreeClassifier\n",
    "\n",
    "decision_tree = DecisionTreeClassifier(random_state=32)\n",
    "decision_tree.fit(X_train, y_train)\n",
    "\n",
    "decision_y_pred = decision_tree.predict(X_test)\n",
    "print('Decision 정확도 : ', accuracy_score(y_test, decision_y_pred))\n",
    "\n",
    "# Random Forest\n",
    "from sklearn.ensemble import RandomForestClassifier\n",
    "\n",
    "random_forest = RandomForestClassifier(random_state=32)\n",
    "random_forest.fit(X_train, y_train)\n",
    "\n",
    "random_forest_y_pred = random_forest.predict(X_test)\n",
    "print(\"RandomForest 정확도 : \", accuracy_score(y_test, random_forest_y_pred))\n",
    "\n",
    "# SVM\n",
    "from sklearn import svm\n",
    "\n",
    "svm_model = svm.SVC()\n",
    "svm_model.fit(X_train, y_train)\n",
    "\n",
    "svm_model_y_pred = svm_model.predict(X_test)\n",
    "print(\"SVM 정확도 : \", accuracy_score(y_test, svm_model_y_pred))\n",
    "\n",
    "# SGD Classifier\n",
    "from sklearn.linear_model import SGDClassifier\n",
    "\n",
    "sgd_model = SGDClassifier()\n",
    "sgd_model.fit(X_train, y_train)\n",
    "\n",
    "sgd_model_y_pred = sgd_model.predict(X_test)\n",
    "print(\"SGD 정확도 : \", accuracy_score(y_test, sgd_model_y_pred))\n",
    "\n",
    "# Logistic Regression\n",
    "from sklearn.linear_model import LogisticRegression\n",
    "\n",
    "logistic_model = LogisticRegression(max_iter=10000)\n",
    "logistic_model.fit(X_train, y_train)\n",
    "\n",
    "logistic_model_y_pred = logistic_model.predict(X_test)\n",
    "print(\"Logistics 정확도 : \", accuracy_score(y_test, logistic_model_y_pred))\n",
    "\n",
    "'''\n",
    "알코올, 사과산, 마그네슘, 총 페놀, 색상 강도, 색조 등 성분 수치와 일치할수록 \n",
    "와인 판별을 정확하게 할 수 있으니까 정확도 지표가 이 경우에도 중요할 거라 생각함\n",
    "'''"
   ]
  }
 ],
 "metadata": {
  "kernelspec": {
   "display_name": "Python 3",
   "language": "python",
   "name": "python3"
  },
  "language_info": {
   "codemirror_mode": {
    "name": "ipython",
    "version": 3
   },
   "file_extension": ".py",
   "mimetype": "text/x-python",
   "name": "python",
   "nbconvert_exporter": "python",
   "pygments_lexer": "ipython3",
   "version": "3.11.5"
  }
 },
 "nbformat": 4,
 "nbformat_minor": 2
}
