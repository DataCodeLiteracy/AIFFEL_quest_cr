{
  "nbformat": 4,
  "nbformat_minor": 0,
  "metadata": {
    "colab": {
      "provenance": [],
      "toc_visible": true
    },
    "kernelspec": {
      "name": "python3",
      "display_name": "Python 3"
    },
    "language_info": {
      "name": "python"
    }
  },
  "cells": [
    {
      "cell_type": "code",
      "execution_count": 22,
      "metadata": {
        "id": "Lusa3Q81zSTp"
      },
      "outputs": [],
      "source": [
        "with open('/content/sample_data/Avengers.txt', 'r') as file:\n",
        "    content = file.read()"
      ]
    },
    {
      "cell_type": "code",
      "source": [
        "import re\n",
        "\n",
        "def processingText(text):\n",
        "  lower_content = text.lower()\n",
        "  remove_symbol_content = re.sub(r\"[^a-z0-9\\s]\",\"\", lower_content)\n",
        "  split_content = remove_symbol_content.split()\n",
        "\n",
        "  return split_content"
      ],
      "metadata": {
        "id": "-lOk8rPZ1KBI"
      },
      "execution_count": 57,
      "outputs": []
    },
    {
      "cell_type": "code",
      "source": [
        "dic = {}\n",
        "\n",
        "split_content = processingText(content)\n",
        "\n",
        "for i in split_content:\n",
        "  if i not in dic:\n",
        "    dic[i] = 1\n",
        "  else:\n",
        "    dic[i] += 1\n"
      ],
      "metadata": {
        "id": "ENkATvHaB4Wi"
      },
      "execution_count": 58,
      "outputs": []
    },
    {
      "cell_type": "code",
      "source": [
        "sort_dic = sorted(dic.items(), key= lambda item:item[1], reverse=True)\n",
        "\n",
        "vocab = {}\n",
        "i = 0\n",
        "\n",
        "for item in sort_dic:\n",
        "  vocab[item[0]] = i\n",
        "  i += 1"
      ],
      "metadata": {
        "id": "G_nbzyuk9lnw"
      },
      "execution_count": 59,
      "outputs": []
    },
    {
      "cell_type": "code",
      "source": [
        "text = str(input(\"텍스트를 입력해주세요 : \"))\n",
        "\n",
        "intList = []\n",
        "\n",
        "def changeText(text):\n",
        "  split_content = processingText(text)\n",
        "  for i in split_content:\n",
        "    intList.append(vocab[i])\n",
        "  return intList\n",
        "\n",
        "changeText(text)"
      ],
      "metadata": {
        "colab": {
          "base_uri": "https://localhost:8080/"
        },
        "id": "V6a2T0-S_6Bs",
        "outputId": "d7c6b6ad-0787-460d-b4b1-f0b3bcdb2dca"
      },
      "execution_count": 62,
      "outputs": [
        {
          "name": "stdout",
          "output_type": "stream",
          "text": [
            "텍스트를 입력해주세요 : i am a boy\n"
          ]
        },
        {
          "output_type": "execute_result",
          "data": {
            "text/plain": [
              "[2, 131, 3, 548]"
            ]
          },
          "metadata": {},
          "execution_count": 62
        }
      ]
    }
  ]
}